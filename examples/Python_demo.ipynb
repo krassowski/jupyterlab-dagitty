{
 "cells": [
  {
   "cell_type": "code",
   "execution_count": 1,
   "id": "4fe235f0-d67f-437b-87d0-a0642306c949",
   "metadata": {},
   "outputs": [],
   "source": [
    "from jupyterlab_dagitty import DAG"
   ]
  },
  {
   "cell_type": "markdown",
   "id": "ccd4c9ac-fbc3-4ff9-8590-31ccf3a04880",
   "metadata": {},
   "source": [
    "In addition to built-in dagitty interactions, you can use:\n",
    "- <kbd>Ctrl</kbd> + mouse wheel to zoom in/out,\n",
    "- <kbd>Ctrl</kbd> + mouse click and drag to move the canvas,\n",
    "- resize the plot by dragging bottom-right corner."
   ]
  },
  {
   "cell_type": "code",
   "execution_count": 2,
   "id": "d703b357-3b37-4eea-94df-f35d8f2243ef",
   "metadata": {},
   "outputs": [
    {
     "data": {
      "application/x.dagitty.dag": "dag {\nbb=\"0,0,1,1\"\n\"acceleration expenditure\" [pos=\"0.649,0.534\"]\n\"aggressive driving\" [pos=\"0.510,0.543\"]\n\"air conditioning\" [pos=\"0.515,0.898\"]\n\"automatic transmission\" [pos=\"0.830,0.127\"]\n\"average miles per gallon (mpg)\" [outcome,pos=\"0.902,0.579\"]\n\"car mass\" [pos=\"0.546,0.281\"]\n\"city driving\" [pos=\"0.510,0.446\"]\n\"cruise control\" [pos=\"0.510,0.366\"]\n\"cruise maintenance expenditure\" [pos=\"0.630,0.404\"]\n\"effective driving force\" [pos=\"0.859,0.467\"]\n\"engine displacement (dp)\" [exposure,pos=\"0.636,0.724\"]\n\"fuel consumption\" [pos=\"0.798,0.674\"]\n\"generated driving force\" [pos=\"0.735,0.464\"]\n\"horse power (hp)\" [pos=\"0.694,0.629\"]\n\"likes to drive aggressively\" [pos=\"0.334,0.505\"]\n\"other fuel expenditure\" [pos=\"0.638,0.898\"]\n\"tire quality\" [pos=\"0.722,0.233\"]\n\"transmission efficiency\" [pos=\"0.840,0.267\"]\nfriction [pos=\"0.758,0.342\"]\nheating [pos=\"0.514,0.809\"]\n\"acceleration expenditure\" -> \"generated driving force\"\n\"aggressive driving\" -> \"acceleration expenditure\"\n\"air conditioning\" -> \"other fuel expenditure\"\n\"automatic transmission\" -> \"transmission efficiency\"\n\"car mass\" -> \"acceleration expenditure\"\n\"car mass\" -> \"cruise maintenance expenditure\"\n\"car mass\" -> friction\n\"city driving\" -> \"acceleration expenditure\"\n\"cruise control\" -> \"cruise maintenance expenditure\"\n\"cruise maintenance expenditure\" -> \"generated driving force\"\n\"effective driving force\" -> \"average miles per gallon (mpg)\"\n\"engine displacement (dp)\" -> \"fuel consumption\"\n\"engine displacement (dp)\" -> \"horse power (hp)\"\n\"fuel consumption\" -> \"average miles per gallon (mpg)\"\n\"generated driving force\" -> \"effective driving force\"\n\"generated driving force\" -> \"fuel consumption\"\n\"horse power (hp)\" -> \"generated driving force\"\n\"likes to drive aggressively\" -> \"aggressive driving\"\n\"likes to drive aggressively\" -> \"automatic transmission\" [pos=\"0.332,0.090\"]\n\"likes to drive aggressively\" -> \"engine displacement (dp)\" [pos=\"0.351,0.745\"]\n\"likes to drive aggressively\" -> \"horse power (hp)\" [pos=\"0.439,0.703\"]\n\"other fuel expenditure\" -> \"fuel consumption\"\n\"tire quality\" -> friction\n\"transmission efficiency\" -> \"effective driving force\"\nfriction -> \"effective driving force\"\nheating -> \"other fuel expenditure\"\n}\n",
      "text/plain": [
       "<jupyterlab_dagitty.dag.DAG at 0x7fa9a02b0b80>"
      ]
     },
     "execution_count": 2,
     "metadata": {
      "height": "500px",
      "mutable": false
     },
     "output_type": "execute_result"
    }
   ],
   "source": [
    "DAG(path='car_model_driver.dag')"
   ]
  },
  {
   "cell_type": "code",
   "execution_count": 3,
   "id": "160b243d-62c4-4e80-a25b-f2e20bdce46d",
   "metadata": {},
   "outputs": [
    {
     "data": {
      "application/x.dagitty.dag": "\ndag {\nA [pos=\"-2.200,-1.520\"]\nB [pos=\"1.400,-1.460\"]\nD [outcome,pos=\"1.400,1.621\"]\nE [exposure,pos=\"-2.200,1.597\"]\nZ [pos=\"-0.300,-0.082\"]\nA -> E\nA -> Z [pos=\"-0.791,-1.045\"]\nB -> D\nB -> Z [pos=\"0.680,-0.496\"]\nE -> D\n}\n",
      "text/plain": [
       "<jupyterlab_dagitty.dag.DAG at 0x7fa9a02b0d90>"
      ]
     },
     "execution_count": 3,
     "metadata": {
      "height": "500px",
      "mutable": false
     },
     "output_type": "execute_result"
    }
   ],
   "source": [
    "m_bias_code = \"\"\"\n",
    "dag {\n",
    "A [pos=\"-2.200,-1.520\"]\n",
    "B [pos=\"1.400,-1.460\"]\n",
    "D [outcome,pos=\"1.400,1.621\"]\n",
    "E [exposure,pos=\"-2.200,1.597\"]\n",
    "Z [pos=\"-0.300,-0.082\"]\n",
    "A -> E\n",
    "A -> Z [pos=\"-0.791,-1.045\"]\n",
    "B -> D\n",
    "B -> Z [pos=\"0.680,-0.496\"]\n",
    "E -> D\n",
    "}\n",
    "\"\"\"\n",
    "DAG(m_bias_code)"
   ]
  },
  {
   "cell_type": "markdown",
   "id": "61c087b3-9a40-452d-b193-e9d2ff12970c",
   "metadata": {},
   "source": [
    "You can change, `height`, and/or make the DAG `mutable` (try clicking on the background to add a new node, or clicking on two nodes to connect them).\n",
    "\n",
    "Note: any changes made with `mutable=True` will reset when you run the cell again or re-open the notebook."
   ]
  },
  {
   "cell_type": "code",
   "execution_count": 4,
   "id": "d8ffb07d-5870-4ab4-9280-1c92d8b23fa3",
   "metadata": {},
   "outputs": [
    {
     "data": {
      "application/x.dagitty.dag": "\ndag {\nA [pos=\"-2.200,-1.520\"]\nB [pos=\"1.400,-1.460\"]\nD [outcome,pos=\"1.400,1.621\"]\nE [exposure,pos=\"-2.200,1.597\"]\nZ [pos=\"-0.300,-0.082\"]\nA -> E\nA -> Z [pos=\"-0.791,-1.045\"]\nB -> D\nB -> Z [pos=\"0.680,-0.496\"]\nE -> D\n}\n",
      "text/plain": [
       "<jupyterlab_dagitty.dag.DAG at 0x7fa9a02af8e0>"
      ]
     },
     "execution_count": 4,
     "metadata": {
      "height": "200px",
      "mutable": true
     },
     "output_type": "execute_result"
    }
   ],
   "source": [
    "DAG(m_bias_code, height=200, mutable=True)"
   ]
  }
 ],
 "metadata": {
  "kernelspec": {
   "display_name": "Python 3 (ipykernel)",
   "language": "python",
   "name": "python3"
  },
  "language_info": {
   "codemirror_mode": {
    "name": "ipython",
    "version": 3
   },
   "file_extension": ".py",
   "mimetype": "text/x-python",
   "name": "python",
   "nbconvert_exporter": "python",
   "pygments_lexer": "ipython3",
   "version": "3.9.13"
  }
 },
 "nbformat": 4,
 "nbformat_minor": 5
}
