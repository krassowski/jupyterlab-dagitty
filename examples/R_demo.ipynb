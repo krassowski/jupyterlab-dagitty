{
 "cells": [
  {
   "cell_type": "code",
   "execution_count": 1,
   "id": "852d4add-53c3-4e51-bb23-9c6acbe79dfc",
   "metadata": {},
   "outputs": [],
   "source": [
    "source('display_dagitty.R')"
   ]
  },
  {
   "cell_type": "markdown",
   "id": "92c776ba-29fd-415c-b6ce-7073f73fb1bc",
   "metadata": {},
   "source": [
    "In addition to built-in dagitty interactions, you can use:\n",
    "- <kbd>Ctrl</kbd> + mouse wheel to zoom in/out,\n",
    "- <kbd>Ctrl</kbd> + mouse click and drag to move the canvas,\n",
    "- resize the plot by dragging bottom-right corner."
   ]
  },
  {
   "cell_type": "code",
   "execution_count": 2,
   "id": "811b1484-0134-40dc-8b7a-51b94a56ec4f",
   "metadata": {},
   "outputs": [
    {
     "data": {
      "application/x.dagitty.dag": "dag { bb=\"0,0,1,1\" \"acceleration expenditure\" [pos=\"0.649,0.534\"] \"aggressive driving\" [pos=\"0.510,0.543\"] \"air conditioning\" [pos=\"0.515,0.898\"] \"automatic transmission\" [pos=\"0.830,0.127\"] \"average miles per gallon (mpg)\" [outcome,pos=\"0.902,0.579\"] \"car mass\" [pos=\"0.546,0.281\"] \"city driving\" [pos=\"0.510,0.446\"] \"cruise control\" [pos=\"0.510,0.366\"] \"cruise maintenance expenditure\" [pos=\"0.630,0.404\"] \"effective driving force\" [pos=\"0.859,0.467\"] \"engine displacement (dp)\" [exposure,pos=\"0.636,0.724\"] \"fuel consumption\" [pos=\"0.798,0.674\"] \"generated driving force\" [pos=\"0.735,0.464\"] \"horse power (hp)\" [pos=\"0.694,0.629\"] \"likes to drive aggressively\" [pos=\"0.334,0.505\"] \"other fuel expenditure\" [pos=\"0.638,0.898\"] \"tire quality\" [pos=\"0.722,0.233\"] \"transmission efficiency\" [pos=\"0.840,0.267\"] friction [pos=\"0.758,0.342\"] heating [pos=\"0.514,0.809\"] \"acceleration expenditure\" -> \"generated driving force\" \"aggressive driving\" -> \"acceleration expenditure\" \"air conditioning\" -> \"other fuel expenditure\" \"automatic transmission\" -> \"transmission efficiency\" \"car mass\" -> \"acceleration expenditure\" \"car mass\" -> \"cruise maintenance expenditure\" \"car mass\" -> friction \"city driving\" -> \"acceleration expenditure\" \"cruise control\" -> \"cruise maintenance expenditure\" \"cruise maintenance expenditure\" -> \"generated driving force\" \"effective driving force\" -> \"average miles per gallon (mpg)\" \"engine displacement (dp)\" -> \"fuel consumption\" \"engine displacement (dp)\" -> \"horse power (hp)\" \"fuel consumption\" -> \"average miles per gallon (mpg)\" \"generated driving force\" -> \"effective driving force\" \"generated driving force\" -> \"fuel consumption\" \"horse power (hp)\" -> \"generated driving force\" \"likes to drive aggressively\" -> \"aggressive driving\" \"likes to drive aggressively\" -> \"automatic transmission\" [pos=\"0.332,0.090\"] \"likes to drive aggressively\" -> \"engine displacement (dp)\" [pos=\"0.351,0.745\"] \"likes to drive aggressively\" -> \"horse power (hp)\" [pos=\"0.439,0.703\"] \"other fuel expenditure\" -> \"fuel consumption\" \"tire quality\" -> friction \"transmission efficiency\" -> \"effective driving force\" friction -> \"effective driving force\" heating -> \"other fuel expenditure\" }"
     },
     "metadata": {
      "height": "500px",
      "mutable": false,
      "width": "unset"
     },
     "output_type": "display_data"
    }
   ],
   "source": [
    "display_dagitty(path='car_model_driver.dag')"
   ]
  },
  {
   "cell_type": "code",
   "execution_count": 3,
   "id": "84dcea77-1c35-4edc-b773-1a57d6249f33",
   "metadata": {},
   "outputs": [
    {
     "data": {
      "application/x.dagitty.dag": "dag {\nA [pos=\"-2.200,-1.520\"]\nB [pos=\"1.400,-1.460\"]\nD [outcome,pos=\"1.400,1.621\"]\nE [exposure,pos=\"-2.200,1.597\"]\nZ [pos=\"-0.300,-0.082\"]\nA -> E\nA -> Z [pos=\"-0.791,-1.045\"]\nB -> D\nB -> Z [pos=\"0.680,-0.496\"]\nE -> D\n}\n"
     },
     "metadata": {
      "height": "500px",
      "mutable": false,
      "width": "unset"
     },
     "output_type": "display_data"
    }
   ],
   "source": [
    "m_bias = dagitty::dagitty('\n",
    "dag {\n",
    "A [pos=\"-2.200,-1.520\"]\n",
    "B [pos=\"1.400,-1.460\"]\n",
    "D [outcome,pos=\"1.400,1.621\"]\n",
    "E [exposure,pos=\"-2.200,1.597\"]\n",
    "Z [pos=\"-0.300,-0.082\"]\n",
    "A -> E\n",
    "A -> Z [pos=\"-0.791,-1.045\"]\n",
    "B -> D\n",
    "B -> Z [pos=\"0.680,-0.496\"]\n",
    "E -> D\n",
    "}\n",
    "')\n",
    "display_dagitty(m_bias)"
   ]
  },
  {
   "cell_type": "markdown",
   "id": "d79137cb-7156-4447-96f5-0fc1a1ab75fd",
   "metadata": {},
   "source": [
    "You can change, `height`, and/or make the DAG `mutable` (try clicking on the background to add a new node, or clicking on two nodes to connect them).\n",
    "\n",
    "Note: any changes made with `mutable=TRUE` will reset when you run the cell again or re-open the notebook."
   ]
  },
  {
   "cell_type": "code",
   "execution_count": 4,
   "id": "2ab5d0ed-3b28-4774-8ba7-8cf46bae7eec",
   "metadata": {},
   "outputs": [
    {
     "data": {
      "application/x.dagitty.dag": "dag {\nA [pos=\"-2.200,-1.520\"]\nB [pos=\"1.400,-1.460\"]\nD [outcome,pos=\"1.400,1.621\"]\nE [exposure,pos=\"-2.200,1.597\"]\nZ [pos=\"-0.300,-0.082\"]\nA -> E\nA -> Z [pos=\"-0.791,-1.045\"]\nB -> D\nB -> Z [pos=\"0.680,-0.496\"]\nE -> D\n}\n"
     },
     "metadata": {
      "height": "200px",
      "mutable": true,
      "width": "unset"
     },
     "output_type": "display_data"
    }
   ],
   "source": [
    "display_dagitty(m_bias, height = 200, mutable = TRUE)"
   ]
  },
  {
   "cell_type": "markdown",
   "id": "af7d05b1-351e-4782-b80c-b59a78045e4a",
   "metadata": {},
   "source": [
    "Compare with the standard plot:"
   ]
  },
  {
   "cell_type": "code",
   "execution_count": 5,
   "id": "6aadb978-5ffc-4422-b3cb-fe17c7fbb3a2",
   "metadata": {},
   "outputs": [
    {
     "data": {
      "image/png": "[encoded data removed]",
      "text/plain": [
       "plot without title"
      ]
     },
     "metadata": {
      "image/png": {
       "height": 420,
       "width": 420
      }
     },
     "output_type": "display_data"
    }
   ],
   "source": [
    "plot(m_bias)"
   ]
  }
 ],
 "metadata": {
  "kernelspec": {
   "display_name": "R",
   "language": "R",
   "name": "ir"
  },
  "language_info": {
   "codemirror_mode": "r",
   "file_extension": ".r",
   "mimetype": "text/x-r-source",
   "name": "R",
   "pygments_lexer": "r",
   "version": "4.1.2"
  }
 },
 "nbformat": 4,
 "nbformat_minor": 5
}
